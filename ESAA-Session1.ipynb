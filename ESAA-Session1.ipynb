{
 "cells": [
  {
   "cell_type": "markdown",
   "id": "70646d0e-336b-4544-8b5d-4cf0185c75c8",
   "metadata": {},
   "source": [
    "<머신러닝의 개념>\n",
    "\n",
    "머신러닝(Machine Learning) : 애플리케이션을 수정하지 않고도 데이터를 기반으로 패턴을 학습하고 결과를 예측하는 알고리즘 기법\n",
    "\n",
    "- 업무적으로 복잡한 조건/규칙들이 다양한 형태로 결합하고 시시각각 변하기 때문에 소프트웨어 코드로 로직을 구성하여 이를 관통하는 일정 패턴을 찾기 어려운 경우 솔루션 제공 가능 -> 숨겨진 패턴을 이용 (데이터 기반 통계적 신뢰도 강화 및 예측 오류 최소화를 위해 다양한 수학적 기법을 적용하여 패턴을 스스로 인지하고 신뢰도 있는 예측 결과 도출)\n",
    "\n",
    "- 이러한 머신러닝의 경향으로 데이터 분석 영역이 머신러닝 기반의 예측 분석(predictive Analysis)으로 재편되고 있음.\n",
    "\n",
    "- 데이터마이닝, 영상 인식, 음성 인식, 자연어 처리에서 발전\n",
    "\n",
    "- 단점 : 데이터에 매우 의존적 (가비지 인, 가비지 아웃(Garbage In & Out) : 좋은 품질의 데이터를 갗추지 못한다면 머신 러닝의 수행 결과가 좋을 수 없는 것) -> 데이터를 이해하고 효율적으로 가공, 처리, 추출해 최적의 데이터를 기반으로 알고리즘을 구동할 수 있도록 준비하는 능력 = '데이터 전쟁' \n",
    "\n",
    "\n",
    "머신러닝의 분류 : 지도학습(Supervised Learning) , 비지도학습(Un-supervised Learning), 강화학습(Reinforcement Learning)\n",
    "\n",
    "- 지도학습 : 분류(classification) , 회귀(Regression) , (+ 추천시스템, 시각/음성 감지/인지, 텍스트분석, NLP)\n",
    "\n",
    "- 비지도학습 : 클러스터링, 차원 축소, 강화 학습\n",
    "\n",
    "\n",
    "파이썬과 R 기반의 머신러닝 비교 : \n",
    "- R : 통계 전용 프로그램 언어. 다양하고 많은 통계 패키지 보유\n",
    "- 파이썬 : 다양한 영역에서 사용 가능. 직관적인 문법과 객체지향과 함수형 프로그래밍 모두 포괄하는 유연한 프로그래밍 아키텍쳐, 다양한 라이브러리 등 \n",
    "\n",
    "[파이썬을 더 선호하는 이유]\n",
    "- 쉽고 뛰어난 개발 생산성으로 활용도 높음\n",
    "- 오픈 소스 계열의 지지가 많고, 많은 라이브러리로 인해 높은 생산성 보장 가능\n",
    "- 속도는 느리지만 다양한 영역에서 사용 가능 (확장성, 유연성, 호환성)\n",
    "- 엔터프라이즈 아키텍쳐의 확장 및 다양한 기업 환경으로의 확산 가능"
   ]
  },
  {
   "cell_type": "markdown",
   "id": "bca7e00e-178e-4ebc-9d4e-04874894e989",
   "metadata": {},
   "source": [
    "<넘파이>\n",
    "\n",
    "파이썬에서 선행대수 기반의 프로그램을 쉽게 만들 수 있도록 지원하는 대표적인 패키지 \n",
    "\n",
    "- 루프를 사용하지 않고 대량 데이터의 배열 연산을 가능하게 함 -> 빠른 배열 연산\n",
    "- 다양한 데이터 핸들링 기능 (그러나 판다스의 편리성에는 미치지 못함 - 판다스를 더 많이 사용)\n",
    "- 많은 머신러닝 알고리즘의 기반이 되고, 입력 데이터와 출력 데이터의 배열 타입이 됨. 또한 판다스와 같은 데이터 핸들링 패키지를 이해하는 데에도 많은 도움이 됨. "
   ]
  },
  {
   "cell_type": "code",
   "execution_count": 109,
   "id": "8736919b-6483-4b9f-a47d-f42f9f56ec4e",
   "metadata": {},
   "outputs": [],
   "source": [
    "import numpy as np"
   ]
  },
  {
   "cell_type": "markdown",
   "id": "57c172ef-11ff-44d9-bf69-8d9307b4e448",
   "metadata": {},
   "source": [
    "<ndarray>\n",
    "\n",
    "넘파이 기반의 데이터타입 \n",
    "- 다차원(multi_dimension) 배열을 쉽게 생성하고 다양한 연산 수행 가능\n",
    "- shape : 크기(행과 열의 수)를 튜플 형태로 가지고 있음 -> 차원까지 알 수 있음 (차원의 차이를 이해하는 것은 오류를 막기 위해 매우 중요)"
   ]
  },
  {
   "cell_type": "code",
   "execution_count": 3,
   "id": "0076c751-82ee-4028-9fdb-05198dd0a176",
   "metadata": {},
   "outputs": [
    {
     "name": "stdout",
     "output_type": "stream",
     "text": [
      "array1 type: <class 'numpy.ndarray'>\n",
      "array1 array 형태: (3,)\n",
      "array2 type: <class 'numpy.ndarray'>\n",
      "array2 array 형태: (2, 3)\n",
      "array3 type: <class 'numpy.ndarray'>\n",
      "array3 array 형태: (1, 3)\n"
     ]
    }
   ],
   "source": [
    "array1 = np.array([1,2,3])\n",
    "print('array1 type:', type(array1))\n",
    "print('array1 array 형태:',array1.shape)\n",
    "\n",
    "array2 = np.array([[1,2,3],\n",
    "                   [2,3,4]])\n",
    "print('array2 type:', type(array2))\n",
    "print('array2 array 형태:', array2.shape)\n",
    "\n",
    "array3 = np.array([[1,2,3]])\n",
    "print('array3 type:', type(array3))\n",
    "print('array3 array 형태:', array3.shape)"
   ]
  },
  {
   "cell_type": "code",
   "execution_count": 5,
   "id": "b3b507f4-ecb1-4a29-b9e4-840f74427d43",
   "metadata": {},
   "outputs": [
    {
     "name": "stdout",
     "output_type": "stream",
     "text": [
      "array1 : 1차원, array2: 2차원, array3: 2차원\n"
     ]
    }
   ],
   "source": [
    "print('array1 : {0}차원, array2: {1}차원, array3: {2}차원'.format(array1.ndim,\n",
    "                                                            array2.ndim, array3.ndim))"
   ]
  },
  {
   "cell_type": "markdown",
   "id": "3d15a0d1-912a-468f-97e6-fc154353ad1b",
   "metadata": {},
   "source": [
    "ndarray의 데이터타입\n",
    "\n",
    "숫자 값 (int형, unsigned int형, float형, complex타입),\n",
    "문자열 값,\n",
    "불 값\n",
    "\n",
    "- ndarray 내의 데이터 타입은 같은 데이터 타입만 가능! "
   ]
  },
  {
   "cell_type": "code",
   "execution_count": 7,
   "id": "1e508318-9217-4c8d-bb25-90482747ff14",
   "metadata": {},
   "outputs": [
    {
     "name": "stdout",
     "output_type": "stream",
     "text": [
      "<class 'list'>\n",
      "<class 'numpy.ndarray'>\n",
      "[1 2 3] int64\n"
     ]
    }
   ],
   "source": [
    "list1 = [1,2,3]\n",
    "print(type(list1))\n",
    "array1 = np.array(list1)\n",
    "print(type(array1))\n",
    "print(array1, array1.dtype)"
   ]
  },
  {
   "cell_type": "code",
   "execution_count": 9,
   "id": "d206d68d-0ac9-44de-b26d-df347c5dda4e",
   "metadata": {},
   "outputs": [
    {
     "name": "stdout",
     "output_type": "stream",
     "text": [
      "['1' '2' 'test'] <U21\n",
      "[1. 2. 3.] float64\n"
     ]
    }
   ],
   "source": [
    "list2 = [1,2,'test']\n",
    "array2 = np.array(list2)\n",
    "print(array2, array2.dtype)\n",
    "\n",
    "list3 = [1,2,3.0]\n",
    "array3 = np.array(list3)\n",
    "print(array3, array3.dtype)"
   ]
  },
  {
   "cell_type": "code",
   "execution_count": 11,
   "id": "06590f75-869b-47b7-bfbe-c56907e5624b",
   "metadata": {},
   "outputs": [
    {
     "name": "stdout",
     "output_type": "stream",
     "text": [
      "[1. 2. 3.] float64\n",
      "[1 2 3] int32\n",
      "[1 2 3] int32\n"
     ]
    }
   ],
   "source": [
    "array_int = np.array([1,2,3])\n",
    "array_float = array_int.astype('float64')\n",
    "print(array_float, array_float.dtype)\n",
    "\n",
    "array_int1 = array_float.astype('int32')\n",
    "print(array_int1, array_int1.dtype)\n",
    "\n",
    "array_float1 = np.array([1.1,2.1,3.1])\n",
    "array_int2 = array_float.astype('int32')\n",
    "print(array_int2, array_int2.dtype)"
   ]
  },
  {
   "cell_type": "markdown",
   "id": "79e2b882-d12f-4631-9d01-54a19ed5d328",
   "metadata": {},
   "source": [
    "arange,zeros,ones\n",
    "\n",
    "- arange() : 파이썬의 range()와 유사. array를 range로 표현. 0부터 함수 인자 값 -1까지의 값을 순차적으로 데이터값으로 변화\n",
    "- zeros() : 모든 값을 0으로 채운 shape을 가진 ndarray로 변화\n",
    "- ones() : 모든 값을 1로 채운 shape을 가진 ndarray로 변화"
   ]
  },
  {
   "cell_type": "code",
   "execution_count": 17,
   "id": "73b27ed4-5766-4f23-8a45-bad8daba8a0c",
   "metadata": {},
   "outputs": [
    {
     "name": "stdout",
     "output_type": "stream",
     "text": [
      "[0 1 2 3 4 5 6 7 8 9]\n",
      "int64 (10,)\n"
     ]
    }
   ],
   "source": [
    "sequence_array = np.arange(10)\n",
    "print(sequence_array)\n",
    "print(sequence_array.dtype, sequence_array.shape)"
   ]
  },
  {
   "cell_type": "code",
   "execution_count": 25,
   "id": "5528ef2a-b8a6-44d6-aed3-5899f9dc6011",
   "metadata": {},
   "outputs": [
    {
     "name": "stdout",
     "output_type": "stream",
     "text": [
      "[[0 0]\n",
      " [0 0]\n",
      " [0 0]]\n",
      "int32 (3, 2)\n",
      "[[1. 1.]\n",
      " [1. 1.]\n",
      " [1. 1.]]\n",
      "float64 (3, 2)\n"
     ]
    }
   ],
   "source": [
    "zero_array = np.zeros((3,2), dtype='int32')\n",
    "print(zero_array)\n",
    "print(zero_array.dtype, zero_array.shape)\n",
    "\n",
    "one_array = np.ones((3,2))\n",
    "print(one_array)\n",
    "print(one_array.dtype, one_array.shape)"
   ]
  },
  {
   "cell_type": "markdown",
   "id": "1f59c1b5-e576-4c97-9c9e-7ea2e026bb96",
   "metadata": {},
   "source": [
    "reshape()\n",
    "\n",
    "- ndarray를 특정 차원의 크기로 변환 - 변환을 원하는 크기를 함수 인자로 부여\n",
    "- -1을 인자로 사용하면 원래 ndarray와 호환되는 새로운 shape으로 변환 가능 -> reshape(-1,1)로 자주 사용 (ndarray가 어던 형태라도 2차원이며, 여러 개의 로우를 가지되 반드시 1개의 칼럼을 가진 ndarray로 변환됨을 보장)"
   ]
  },
  {
   "cell_type": "code",
   "execution_count": 27,
   "id": "ae98d317-787e-4e6e-bce8-5e626b2e64da",
   "metadata": {},
   "outputs": [
    {
     "name": "stdout",
     "output_type": "stream",
     "text": [
      "array1:\n",
      " [0 1 2 3 4 5 6 7 8 9]\n",
      "array2:\n",
      " [[0 1 2 3 4]\n",
      " [5 6 7 8 9]]\n",
      "array3:\n",
      " [[0 1]\n",
      " [2 3]\n",
      " [4 5]\n",
      " [6 7]\n",
      " [8 9]]\n"
     ]
    }
   ],
   "source": [
    "array1 = np.arange(10)\n",
    "print('array1:\\n',array1)\n",
    "\n",
    "array2 = array1.reshape(2,5)\n",
    "print('array2:\\n',array2)\n",
    "\n",
    "array3 = array1.reshape(5,2)\n",
    "print('array3:\\n',array3)"
   ]
  },
  {
   "cell_type": "code",
   "execution_count": 29,
   "id": "c2392c4f-7fff-43ea-b83b-fbca3121f120",
   "metadata": {},
   "outputs": [
    {
     "ename": "ValueError",
     "evalue": "cannot reshape array of size 10 into shape (4,3)",
     "output_type": "error",
     "traceback": [
      "\u001b[0;31m---------------------------------------------------------------------------\u001b[0m",
      "\u001b[0;31mValueError\u001b[0m                                Traceback (most recent call last)",
      "Cell \u001b[0;32mIn[29], line 1\u001b[0m\n\u001b[0;32m----> 1\u001b[0m array1\u001b[38;5;241m.\u001b[39mreshape(\u001b[38;5;241m4\u001b[39m,\u001b[38;5;241m3\u001b[39m)\n",
      "\u001b[0;31mValueError\u001b[0m: cannot reshape array of size 10 into shape (4,3)"
     ]
    }
   ],
   "source": [
    "array1.reshape(4,3)"
   ]
  },
  {
   "cell_type": "code",
   "execution_count": 33,
   "id": "5ad82593-2f8f-44aa-8e44-660bb83ff154",
   "metadata": {},
   "outputs": [
    {
     "name": "stdout",
     "output_type": "stream",
     "text": [
      "[0 1 2 3 4 5 6 7 8 9]\n",
      "array2 shape: (2, 5)\n",
      "array3 shape: (5, 2)\n"
     ]
    }
   ],
   "source": [
    "array1 = np.arange(10)\n",
    "print(array1)\n",
    "array2 = array1.reshape(-1,5)\n",
    "print('array2 shape:', array2.shape)\n",
    "array3 = array1.reshape(5,-1)\n",
    "print('array3 shape:', array3.shape)"
   ]
  },
  {
   "cell_type": "code",
   "execution_count": 35,
   "id": "c67dbbdc-f8cf-4e0f-aaf0-d757b8b33191",
   "metadata": {},
   "outputs": [
    {
     "ename": "ValueError",
     "evalue": "cannot reshape array of size 10 into shape (4)",
     "output_type": "error",
     "traceback": [
      "\u001b[0;31m---------------------------------------------------------------------------\u001b[0m",
      "\u001b[0;31mValueError\u001b[0m                                Traceback (most recent call last)",
      "Cell \u001b[0;32mIn[35], line 2\u001b[0m\n\u001b[1;32m      1\u001b[0m array1 \u001b[38;5;241m=\u001b[39m np\u001b[38;5;241m.\u001b[39marange(\u001b[38;5;241m10\u001b[39m)\n\u001b[0;32m----> 2\u001b[0m array4 \u001b[38;5;241m=\u001b[39m array1\u001b[38;5;241m.\u001b[39mreshape(\u001b[38;5;241m-\u001b[39m\u001b[38;5;241m1\u001b[39m,\u001b[38;5;241m4\u001b[39m)\n",
      "\u001b[0;31mValueError\u001b[0m: cannot reshape array of size 10 into shape (4)"
     ]
    }
   ],
   "source": [
    "array1 = np.arange(10)\n",
    "array4 = array1.reshape(-1,4)"
   ]
  },
  {
   "cell_type": "code",
   "execution_count": 39,
   "id": "c63de95f-3575-4c3b-99b7-544f0b6158cf",
   "metadata": {},
   "outputs": [
    {
     "name": "stdout",
     "output_type": "stream",
     "text": [
      "array3d:\n",
      " [[[0, 1], [2, 3]], [[4, 5], [6, 7]]]\n",
      "array5:\n",
      " [[0], [1], [2], [3], [4], [5], [6], [7], [8], [9]]\n",
      "array5 shape: (10, 1)\n",
      "array6:\n",
      " [[0], [1], [2], [3], [4], [5], [6], [7]]\n",
      "array6 shape: (8, 1)\n"
     ]
    }
   ],
   "source": [
    "array1 = np.arange(8)\n",
    "array3d = array1.reshape((2,2,2))\n",
    "print('array3d:\\n', array3d.tolist())\n",
    "\n",
    "#3차원 ndarray를 2차원 ndarray로 변환\n",
    "array5 = array3.reshape(-1,1)\n",
    "print('array5:\\n', array5.tolist())\n",
    "print('array5 shape:', array5.shape)\n",
    "\n",
    "#1차원 ndarray를 2차원 ndarray로 변환\n",
    "array6 = array1.reshape(-1,1)\n",
    "print('array6:\\n', array6.tolist())\n",
    "print('array6 shape:', array6.shape)"
   ]
  },
  {
   "cell_type": "markdown",
   "id": "75ea0340-81d0-4b81-a076-06ecd5d3a670",
   "metadata": {},
   "source": [
    "데이터 세트 선택하기 - 인덱싱(Indexing)\n",
    "\n",
    "- 특정 데이터만 추출 : 원하는 인덱스 값을 지정하면 해당 위치의 데이터가 반환됨\n",
    "- 슬라이싱 : 연속된 인덱싱의 ndarray 추출 -> ':' 기호 사이에서 시작 인덱스와 종료 인덱스를 표시하면 시작 인덱스에서 (종료인덱스-1) 위치에 있는 데이터의 ndarray 반환\n",
    "- 팬시 인덱싱 : 일정한 인덱싱 집합을 리스트 또는 ndarray 형태로 지정해 해당 위치의 ndarray를 반환\n",
    "- 불린 인덱싱 : T/F 값 인덱싱 집합을 기반으로 True에 해당하는 인덱스 위치에 있는 데이터의 ndarray를 반환"
   ]
  },
  {
   "cell_type": "code",
   "execution_count": 120,
   "id": "a663737f-51d3-4685-8dbc-44229512ab9a",
   "metadata": {},
   "outputs": [
    {
     "name": "stdout",
     "output_type": "stream",
     "text": [
      "array1: [1 2 3 4 5 6 7 8 9]\n",
      "value: 3\n",
      "<class 'numpy.int64'>\n"
     ]
    }
   ],
   "source": [
    "#1부터 9까지의 1차원 ndarray 생성\n",
    "array1 = np.arange(start=1, stop=10)\n",
    "print('array1:', array1)\n",
    "\n",
    "#index는 0부터 시작하므로 array1[2]는 3번째 index 위치의 데이터값을 의미\n",
    "value = array1[2]\n",
    "print('value:', value)\n",
    "print(type(value))"
   ]
  },
  {
   "cell_type": "code",
   "execution_count": 45,
   "id": "05e74a7a-f8f3-4a48-b3e1-4cefc8e23f74",
   "metadata": {},
   "outputs": [
    {
     "name": "stdout",
     "output_type": "stream",
     "text": [
      "맨 뒤의 값: 9 맨 뒤에서 두 번째 값: 8\n"
     ]
    }
   ],
   "source": [
    "print('맨 뒤의 값:', array1[-1], '맨 뒤에서 두 번째 값:', array1[-2])"
   ]
  },
  {
   "cell_type": "code",
   "execution_count": 47,
   "id": "01e1551d-dece-4f65-a75d-92ac2980a913",
   "metadata": {},
   "outputs": [
    {
     "name": "stdout",
     "output_type": "stream",
     "text": [
      "array1: [9 2 3 4 5 6 7 8 0]\n"
     ]
    }
   ],
   "source": [
    "array1[0] = 9\n",
    "array1[8] = 0\n",
    "print('array1:', array1)"
   ]
  },
  {
   "cell_type": "code",
   "execution_count": 51,
   "id": "042d331c-bf37-463e-99d7-df1a8fd07653",
   "metadata": {},
   "outputs": [
    {
     "name": "stdout",
     "output_type": "stream",
     "text": [
      "[[1 2 3]\n",
      " [4 5 6]\n",
      " [7 8 9]]\n",
      "(row=0, col=0) index 가리키는 값: 1\n",
      "(row=0, col=1) index 가리키는 값: 2\n",
      "(row=1, col=0) index 가리키는 값: 4\n",
      "(row=2, col=2) index 가리키는 값: 9\n"
     ]
    }
   ],
   "source": [
    "array1d = np.arange(start=1, stop=10)\n",
    "array2d = array1d.reshape(3,3)\n",
    "print(array2d)\n",
    "\n",
    "print('(row=0, col=0) index 가리키는 값:', array2d[0,0])\n",
    "print('(row=0, col=1) index 가리키는 값:', array2d[0,1])\n",
    "print('(row=1, col=0) index 가리키는 값:', array2d[1,0])\n",
    "print('(row=2, col=2) index 가리키는 값:', array2d[2,2])"
   ]
  },
  {
   "cell_type": "code",
   "execution_count": 55,
   "id": "d32d57f8-f31e-4161-9aac-29e21f657391",
   "metadata": {},
   "outputs": [
    {
     "name": "stdout",
     "output_type": "stream",
     "text": [
      "[1 2 3]\n",
      "<class 'numpy.ndarray'>\n"
     ]
    }
   ],
   "source": [
    "array1 = np.arange(start=1,stop=10)\n",
    "array3 = array1[0:3]\n",
    "print(array3)\n",
    "print(type(array3))"
   ]
  },
  {
   "cell_type": "code",
   "execution_count": 57,
   "id": "c8eaab08-3136-4754-b7c1-e1eec46d2186",
   "metadata": {},
   "outputs": [
    {
     "name": "stdout",
     "output_type": "stream",
     "text": [
      "[1 2 3]\n",
      "[4 5 6 7 8 9]\n",
      "[1 2 3 4 5 6 7 8 9]\n"
     ]
    }
   ],
   "source": [
    "array1 = np.arange(start=1,stop=10)\n",
    "array4 = array1[:3]\n",
    "print(array4)\n",
    "\n",
    "array5 = array1[3:]\n",
    "print(array5)\n",
    "\n",
    "array6 = array1[:]\n",
    "print(array6)"
   ]
  },
  {
   "cell_type": "code",
   "execution_count": 59,
   "id": "bb9be076-0b52-4df0-abc8-04e6a953d205",
   "metadata": {},
   "outputs": [
    {
     "name": "stdout",
     "output_type": "stream",
     "text": [
      "array2d:\n",
      " [[1 2 3]\n",
      " [4 5 6]\n",
      " [7 8 9]]\n",
      "array2d[0:2, 0:2]\n",
      " [[1 2]\n",
      " [4 5]]\n",
      "array2d[1:3, 0:3]\n",
      " [[4 5 6]\n",
      " [7 8 9]]\n",
      "array2d[1:3, :]\n",
      " [[4 5 6]\n",
      " [7 8 9]]\n",
      "array2d[:,:]\n",
      " [[1 2 3]\n",
      " [4 5 6]\n",
      " [7 8 9]]\n",
      "array2d[:2, 1:]\n",
      " [[2 3]\n",
      " [5 6]]\n",
      "array2d[:2, 0]\n",
      " [1 4]\n"
     ]
    }
   ],
   "source": [
    "array1d = np.arange(start=1,stop=10)\n",
    "array2d = array1d.reshape(3,3)\n",
    "print('array2d:\\n', array2d)\n",
    "\n",
    "print('array2d[0:2, 0:2]\\n', array2d[0:2, 0:2])\n",
    "print('array2d[1:3, 0:3]\\n', array2d[1:3, 0:3])\n",
    "print('array2d[1:3, :]\\n', array2d[1:3, :])\n",
    "print('array2d[:,:]\\n', array2d[:,:])\n",
    "print('array2d[:2, 1:]\\n', array2d[:2, 1:])\n",
    "print('array2d[:2, 0]\\n', array2d[:2, 0])"
   ]
  },
  {
   "cell_type": "code",
   "execution_count": 61,
   "id": "2f3ec1e4-2bd3-47da-8092-1b83e526c422",
   "metadata": {},
   "outputs": [
    {
     "name": "stdout",
     "output_type": "stream",
     "text": [
      "[1 2 3]\n",
      "[4 5 6]\n",
      "array2d[0] shape: (3,) array2d[1] shape: (3,)\n"
     ]
    }
   ],
   "source": [
    "print(array2d[0])\n",
    "print(array2d[1])\n",
    "print('array2d[0] shape:', array2d[0].shape, 'array2d[1] shape:', array2d[1].shape)"
   ]
  },
  {
   "cell_type": "code",
   "execution_count": 63,
   "id": "15c956a8-4f99-42c2-8676-eebfec1838f5",
   "metadata": {},
   "outputs": [
    {
     "name": "stdout",
     "output_type": "stream",
     "text": [
      "array2d[[0,1],2]=> [3, 6]\n",
      "array2d[[0,1],0:2]=> [[1, 2], [4, 5]]\n",
      "array2d[[0,1]]=> [[1, 2, 3], [4, 5, 6]]\n"
     ]
    }
   ],
   "source": [
    "array1d = np.arange(start=1,stop=10)\n",
    "array2d = array1d.reshape(3,3)\n",
    "\n",
    "array3 = array2d[[0,1],2]\n",
    "print('array2d[[0,1],2]=>', array3.tolist())\n",
    "\n",
    "array4 = array2d[[0,1],0:2]\n",
    "print('array2d[[0,1],0:2]=>', array4.tolist())\n",
    "\n",
    "array5 = array2d[[0,1]]\n",
    "print('array2d[[0,1]]=>', array5.tolist())"
   ]
  },
  {
   "cell_type": "code",
   "execution_count": 65,
   "id": "a84e231c-1563-4b21-940b-139b49454119",
   "metadata": {},
   "outputs": [
    {
     "name": "stdout",
     "output_type": "stream",
     "text": [
      "array1d > 5 불린 인덱싱 결과: [6 7 8 9]\n"
     ]
    }
   ],
   "source": [
    "array1d = np.arange(start=1,stop=10)\n",
    "\n",
    "#[]안에 arange1d > 5 Boolean indexing 적용\n",
    "array3 = array1d[array1d > 5]\n",
    "print('array1d > 5 불린 인덱싱 결과:', array3)"
   ]
  },
  {
   "cell_type": "code",
   "execution_count": 67,
   "id": "f81e4a6a-83b8-43e7-a90a-5b19b78a1dbe",
   "metadata": {},
   "outputs": [
    {
     "data": {
      "text/plain": [
       "array([False, False, False, False, False,  True,  True,  True,  True])"
      ]
     },
     "execution_count": 67,
     "metadata": {},
     "output_type": "execute_result"
    }
   ],
   "source": [
    "array1d > 5"
   ]
  },
  {
   "cell_type": "code",
   "execution_count": 69,
   "id": "f634f0cc-6fbd-468c-891b-99d8c2e3a249",
   "metadata": {},
   "outputs": [
    {
     "name": "stdout",
     "output_type": "stream",
     "text": [
      "불린 인덱스로 필터링 결과: [6 7 8 9]\n"
     ]
    }
   ],
   "source": [
    "boolean_indexes = np.array([False, False, False, False, False,  True,  True,  True,  True])\n",
    "array3 = array1d[boolean_indexes]\n",
    "print('불린 인덱스로 필터링 결과:', array3)"
   ]
  },
  {
   "cell_type": "code",
   "execution_count": 75,
   "id": "a34bf975-44e4-4380-ab21-51e7a00b9e9c",
   "metadata": {},
   "outputs": [
    {
     "name": "stdout",
     "output_type": "stream",
     "text": [
      "일반 인덱스로 필터링 결과: [6 7 8 9]\n"
     ]
    }
   ],
   "source": [
    "indexes = np.array([5,6,7,8])\n",
    "array4 = array1d[indexes]\n",
    "print('일반 인덱스로 필터링 결과:',array4)"
   ]
  },
  {
   "cell_type": "markdown",
   "id": "1c3d2b73-dca4-4437-882d-ae4702dc6b47",
   "metadata": {},
   "source": [
    "sort() argsort()\n",
    "\n",
    "- np.sort() (넘파이에서 sort() 호출 -> 원 행렬은 그대로 유지한 채로 원 행렬의 정렬된 행렬을 반환), ndarray.sort() (행렬 자체에서 sort() 호출 -> 반환 값은 None)\n",
    "- argsort() : 정렬된 행렬의 인덱스를 반환 - 활용도가 높음 (반환된 인덱스를 팬시 인덱스로 적용해 추출 가능 - 넘파이의 데이터 추출에서 많이 사용)"
   ]
  },
  {
   "cell_type": "code",
   "execution_count": 79,
   "id": "75570bc5-8bd0-46ed-9e80-2ecbdcf06364",
   "metadata": {},
   "outputs": [
    {
     "name": "stdout",
     "output_type": "stream",
     "text": [
      "원본 행렬: [3 1 9 5]\n",
      "np.sort() 호출 후 반환된 정렬 행렬: [1 3 5 9]\n",
      "np.sort() 호출 후 원본 행렬: [3 1 9 5]\n",
      "org_array.sort() 호출 후 반환된 행렬: None\n",
      "org_array.sort() 호출 후 원본 행렬: [1 3 5 9]\n"
     ]
    }
   ],
   "source": [
    "org_array = np.array([3,1,9,5])\n",
    "print('원본 행렬:', org_array)\n",
    "\n",
    "#np.sort로 정렬\n",
    "sort_array1 = np.sort(org_array)\n",
    "print('np.sort() 호출 후 반환된 정렬 행렬:',sort_array1)\n",
    "print('np.sort() 호출 후 원본 행렬:', org_array)\n",
    "\n",
    "#ndarray,sort()로 정렬\n",
    "sort_array2 = org_array.sort()\n",
    "print('org_array.sort() 호출 후 반환된 행렬:',sort_array2)\n",
    "print('org_array.sort() 호출 후 원본 행렬:', org_array)"
   ]
  },
  {
   "cell_type": "code",
   "execution_count": 81,
   "id": "37fea6dd-1a69-4bab-8725-bf34849ce5dd",
   "metadata": {},
   "outputs": [
    {
     "name": "stdout",
     "output_type": "stream",
     "text": [
      "내림차순으로 정렬: [9 5 3 1]\n"
     ]
    }
   ],
   "source": [
    "sort_array1_desc = np.sort(org_array)[::-1]\n",
    "print('내림차순으로 정렬:', sort_array1_desc)"
   ]
  },
  {
   "cell_type": "code",
   "execution_count": 83,
   "id": "dd2241b1-e9bc-426e-a500-b6eb966a1a7e",
   "metadata": {},
   "outputs": [
    {
     "name": "stdout",
     "output_type": "stream",
     "text": [
      "로우 방향으로 정렬:\n",
      " [[ 7  1]\n",
      " [ 8 12]]\n",
      "칼럼 방향으로 정렬:\n",
      " [[ 8 12]\n",
      " [ 1  7]]\n"
     ]
    }
   ],
   "source": [
    "array2d = np.array([[8,12],\n",
    "                   [7,1]])\n",
    "\n",
    "sort_array2d_axis0 = np.sort(array2d, axis=0)\n",
    "print('로우 방향으로 정렬:\\n', sort_array2d_axis0)\n",
    "\n",
    "sort_array2d_axis1 = np.sort(array2d, axis=1)\n",
    "print('칼럼 방향으로 정렬:\\n', sort_array2d_axis1)"
   ]
  },
  {
   "cell_type": "code",
   "execution_count": 85,
   "id": "7fb74c57-7ca2-45bf-9e5b-023ee0fa180b",
   "metadata": {},
   "outputs": [
    {
     "name": "stdout",
     "output_type": "stream",
     "text": [
      "<class 'numpy.ndarray'>\n",
      "행렬 정렬 시 원본 행렬의 인덱스: [1 0 3 2]\n"
     ]
    }
   ],
   "source": [
    "org_array = np.array([3,1,9,5])\n",
    "sort_indices = np.argsort(org_array)\n",
    "\n",
    "print(type(sort_indices))\n",
    "print('행렬 정렬 시 원본 행렬의 인덱스:', sort_indices)"
   ]
  },
  {
   "cell_type": "code",
   "execution_count": 87,
   "id": "999edac5-de8e-4a1a-99ad-089444f9349d",
   "metadata": {},
   "outputs": [
    {
     "name": "stdout",
     "output_type": "stream",
     "text": [
      "행렬 내림차순 정렬 시 원본 행렬의 인덱스: [2 3 0 1]\n"
     ]
    }
   ],
   "source": [
    "org_array = np.array([3,1,9,5])\n",
    "sort_indices_desc = np.argsort(org_array)[::-1]\n",
    "\n",
    "print('행렬 내림차순 정렬 시 원본 행렬의 인덱스:', sort_indices_desc)"
   ]
  },
  {
   "cell_type": "code",
   "execution_count": 89,
   "id": "66198a47-3cad-4f6c-bcf9-9a1b1bfbb324",
   "metadata": {},
   "outputs": [
    {
     "name": "stdout",
     "output_type": "stream",
     "text": [
      "성적 오름차순 정렬 시 score_array의 인덱스: [0 2 4 1 3]\n",
      "성적 오름차순으로 name_array의 이름 출력: ['John' 'Sarah' 'Samuel' 'Mike' 'Kate']\n"
     ]
    }
   ],
   "source": [
    "import numpy as np\n",
    "\n",
    "name_array = np.array(['John','Mike','Sarah','Kate','Samuel'])\n",
    "score_array = np.array([78,95,84,98,88])\n",
    "\n",
    "sort_indices_asc = np.argsort(score_array)\n",
    "print('성적 오름차순 정렬 시 score_array의 인덱스:', sort_indices_asc)\n",
    "print('성적 오름차순으로 name_array의 이름 출력:', name_array[sort_indices_asc])"
   ]
  },
  {
   "cell_type": "code",
   "execution_count": 91,
   "id": "4ac6fcac-69ce-4d37-81ce-7f47992e3578",
   "metadata": {},
   "outputs": [],
   "source": [
    "A = np.array([[1,2,3],\n",
    "              [4,5,6]])\n",
    "\n",
    "B = np.array([[7,8],\n",
    "              [9,10],\n",
    "              [11,12]])"
   ]
  },
  {
   "cell_type": "markdown",
   "id": "c8587a83-ba20-488b-9faf-97826168c47f",
   "metadata": {},
   "source": [
    "행렬 내적(행렬 곱)\n",
    "\n",
    "- np.dot 이용"
   ]
  },
  {
   "cell_type": "markdown",
   "id": "9910262c-53bd-40e1-91c3-bb748c9c5bf2",
   "metadata": {},
   "source": [
    "전치 행렬 : 행과 열의 위치를 교환한 원소로 구성한 행렬 "
   ]
  },
  {
   "cell_type": "code",
   "execution_count": 93,
   "id": "92a4db1c-55d3-47d5-abb2-dde3af3623ef",
   "metadata": {},
   "outputs": [
    {
     "name": "stdout",
     "output_type": "stream",
     "text": [
      "행렬 내적 결과:\n",
      " [[ 58  64]\n",
      " [139 154]]\n"
     ]
    }
   ],
   "source": [
    "dot_product = np.dot(A,B)\n",
    "print('행렬 내적 결과:\\n', dot_product)"
   ]
  },
  {
   "cell_type": "code",
   "execution_count": 95,
   "id": "8b11d4ba-bc01-440c-865f-5d8ade551af1",
   "metadata": {},
   "outputs": [
    {
     "name": "stdout",
     "output_type": "stream",
     "text": [
      "A의 전치 행렬:\n",
      " [[1 3]\n",
      " [2 4]]\n"
     ]
    }
   ],
   "source": [
    "A = np.array([[1,2],\n",
    "              [3,4]])\n",
    "transpose_mat = np.transpose(A)\n",
    "print('A의 전치 행렬:\\n', transpose_mat)"
   ]
  }
 ],
 "metadata": {
  "kernelspec": {
   "display_name": "Python 3 (ipykernel)",
   "language": "python",
   "name": "python3"
  },
  "language_info": {
   "codemirror_mode": {
    "name": "ipython",
    "version": 3
   },
   "file_extension": ".py",
   "mimetype": "text/x-python",
   "name": "python",
   "nbconvert_exporter": "python",
   "pygments_lexer": "ipython3",
   "version": "3.11.7"
  }
 },
 "nbformat": 4,
 "nbformat_minor": 5
}
